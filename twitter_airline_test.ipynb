{
 "cells": [
  {
   "metadata": {
    "ExecuteTime": {
     "end_time": "2024-10-17T12:30:49.379611Z",
     "start_time": "2024-10-17T12:30:49.369613Z"
    }
   },
   "cell_type": "code",
   "source": [
    "bool_rewrite = 0\n",
    "model_name = 'bert'\n",
    "pre_processing = False\n",
    "cuda_NO = 'cuda:0'\n",
    "test_num = 0\n",
    "pre = \"dataPre\" if pre_processing else \"noPre\"\n",
    "use_colab = 0\n",
    "rand_seed = 42\n",
    "num_labels = 3\n",
    "\n",
    "print(\"____________________________________________________________________________________________________________\")\n",
    "print(f\"Pre-trained model: {model_name}\")\n",
    "\n",
    "label_mapping = {\n",
    "    'negative': 0,\n",
    "    'positive': 1,\n",
    "    'neutral': 2\n",
    "}\n",
    "\n",
    "if bool_rewrite == 0:\n",
    "    print(f\"Testing on ORIGINAL data:\")\n",
    "    model_save_path = f'trainedModels/nlp/airline/selfRef/{pre}/{model_name}-airline-weights-{test_num}.pth'\n",
    "    pred_save_path = f'DS/Twitter-US-Airline-Sentiment/analysis_selfRef/{pre}/{model_name}-pred.csv'\n",
    "else:\n",
    "    print(f\"Testing on REWRITTEN data:\")\n",
    "    model_save_path = f'trainedModels/nlp/airline/selfRef/{pre}/{model_name}-airline-weights-rewrite-{test_num}.pth'\n",
    "    pred_save_path = f'DS/Twitter-US-Airline-Sentiment/analysis_selfRef/{pre}/{model_name}-rewrite-pred.csv'\n",
    "\n",
    "import os\n",
    "os.environ[\"HF_ENDPOINT\"] = \"https://hf-mirror.com\""
   ],
   "id": "b6736c5b05b067bb",
   "outputs": [],
   "execution_count": 3
  },
  {
   "metadata": {},
   "cell_type": "markdown",
   "source": "# Set Random Seed",
   "id": "da9d326ec14e7ed6"
  },
  {
   "metadata": {
    "ExecuteTime": {
     "end_time": "2024-10-17T10:51:50.475268Z",
     "start_time": "2024-10-17T10:51:40.415532Z"
    }
   },
   "cell_type": "code",
   "source": [
    "import numpy as np\n",
    "import random\n",
    "import torch\n",
    "\n",
    "def set_seed(seed):\n",
    "    random.seed(seed)\n",
    "    np.random.seed(seed)\n",
    "    torch.manual_seed(seed)\n",
    "    torch.cuda.manual_seed_all(seed)\n",
    "    torch.backends.cudnn.deterministic = True\n",
    "    torch.backends.cudnn.benchmark = False\n",
    "\n",
    "set_seed(rand_seed)"
   ],
   "id": "6ca3bfa03fc2541a",
   "outputs": [],
   "execution_count": 2
  },
  {
   "metadata": {},
   "cell_type": "markdown",
   "source": "",
   "id": "b9965861f45c4d6d"
  },
  {
   "metadata": {},
   "cell_type": "markdown",
   "source": "# Load Model and Tokenizer",
   "id": "9cc5967977ac25c3"
  },
  {
   "metadata": {
    "ExecuteTime": {
     "end_time": "2024-10-17T12:30:56.239625Z",
     "start_time": "2024-10-17T12:30:56.229579Z"
    }
   },
   "cell_type": "code",
   "source": [
    "from transformers import BertForSequenceClassification, RobertaForSequenceClassification, AlbertForSequenceClassification, DebertaForSequenceClassification, ElectraForSequenceClassification\n",
    "from transformers import BertTokenizer, RobertaTokenizer, AlbertTokenizer, DebertaTokenizer, ElectraTokenizer\n",
    "\n",
    "if model_name == \"bert\":\n",
    "    tokenizer = BertTokenizer.from_pretrained(\"bert-base-uncased\")\n",
    "    model = BertForSequenceClassification.from_pretrained(\"bert-base-uncased\", num_labels=num_labels)\n",
    "elif model_name == \"roberta\":\n",
    "    tokenizer = RobertaTokenizer.from_pretrained(\"roberta-base\")\n",
    "    model = RobertaForSequenceClassification.from_pretrained(\"roberta-base\", num_labels=num_labels)\n",
    "elif model_name == \"albert\":\n",
    "    tokenizer = AlbertTokenizer.from_pretrained(\"albert-base-v2\")\n",
    "    model = AlbertForSequenceClassification.from_pretrained(\"albert-base-v2\", num_labels=num_labels)\n",
    "elif model_name == \"deberta\":\n",
    "    tokenizer = DebertaTokenizer.from_pretrained(\"microsoft/deberta-base\")\n",
    "    model = DebertaForSequenceClassification.from_pretrained(\"microsoft/deberta-base\", num_labels=num_labels)\n",
    "elif model_name == \"electra\":\n",
    "    tokenizer = ElectraTokenizer.from_pretrained(\"google/electra-base-discriminator\")\n",
    "    model = ElectraForSequenceClassification.from_pretrained(\"google/electra-base-discriminator\", num_labels=num_labels)\n",
    "else:\n",
    "    raise ValueError(f\"Model {model_name} not supported.\")"
   ],
   "id": "da91a16baf880a5e",
   "outputs": [],
   "execution_count": 3
  },
  {
   "metadata": {},
   "cell_type": "markdown",
   "source": "# Data Processing",
   "id": "7cbc2ce1544f8846"
  },
  {
   "metadata": {},
   "cell_type": "code",
   "outputs": [],
   "execution_count": null,
   "source": [
    "import re\n",
    "\n",
    "def preprocess_text(text):\n",
    "    # Check if text is a string\n",
    "    if not isinstance(text, str):\n",
    "        return \"\"\n",
    "\n",
    "    # Lowercase\n",
    "    text = text.lower()\n",
    "\n",
    "    # Remove URLs\n",
    "    text = re.sub(r'http\\S+|www\\S+|https\\S+', '', text, flags=re.MULTILINE)\n",
    "\n",
    "    # Remove user @ references and '#' from hashtags\n",
    "    text = re.sub(r'\\@\\w+|\\#','', text)\n",
    "\n",
    "    # Remove special characters, numbers, and punctuations\n",
    "    text = re.sub(r'\\W', ' ', text)\n",
    "    text = re.sub(r'\\d', ' ', text)\n",
    "\n",
    "    # Remove single characters\n",
    "    text = re.sub(r'\\s+[a-zA-Z]\\s+', ' ', text)\n",
    "\n",
    "    # Remove multiple spaces\n",
    "    text = re.sub(r'\\s+', ' ', text)\n",
    "\n",
    "    return text.strip()"
   ],
   "id": "eb7043d6e179af16"
  },
  {
   "metadata": {},
   "cell_type": "markdown",
   "source": "# Read Data",
   "id": "39a10ac5b6a64723"
  },
  {
   "metadata": {
    "ExecuteTime": {
     "end_time": "2024-10-17T10:52:12.851915Z",
     "start_time": "2024-10-17T10:52:12.851915Z"
    }
   },
   "cell_type": "code",
   "source": [
    "import pandas as pd\n",
    "from sklearn.model_selection import train_test_split\n",
    "\n",
    "train_data = pd.read_csv('DS/Twitter-US-Airline-Sentiment/Tweets_selfRef.csv', sep=',', header=0)\n",
    "if pre_processing:\n",
    "    train_data['Clean-Text'] = train_data['Text'].apply(preprocess_text)\n",
    "    train_data['Clean-Text-Rewrite'] = train_data['Text-Rewrite'].apply(preprocess_text)\n",
    "else:\n",
    "    train_data['Clean-Text'] = train_data['Text']\n",
    "    train_data['Clean-Text-Rewrite'] = train_data['Text-Rewrite']\n",
    "\n",
    "train_data, val_data = train_test_split(train_data, test_size=0.2, random_state=rand_seed)\n",
    "val_data = val_data[val_data['Original_Label'] != 'Original_Label']\n",
    "test_data = val_data\n",
    "\n",
    "if bool_rewrite == 0:\n",
    "    train_tokenized = tokenizer(\n",
    "        list(train_data['Clean-Text']), return_tensors='pt', padding=True, truncation=True)\n",
    "    val_tokenized = tokenizer(\n",
    "        list(val_data['Clean-Text']), return_tensors='pt', padding=True, truncation=True)\n",
    "    test_tokenized = val_tokenized\n",
    "else:\n",
    "    train_tokenized = tokenizer(\n",
    "        list(train_data['Clean-Text-Rewrite']), return_tensors='pt', padding=True, truncation=True)\n",
    "    val_tokenized = tokenizer(\n",
    "        list(val_data['Clean-Text-Rewrite']), return_tensors='pt', padding=True, truncation=True)\n",
    "    test_tokenized = val_tokenized"
   ],
   "id": "b387265f795f687c",
   "outputs": [],
   "execution_count": null
  },
  {
   "metadata": {},
   "cell_type": "markdown",
   "source": "# Prediction",
   "id": "7f7177035150ba6d"
  },
  {
   "metadata": {},
   "cell_type": "code",
   "source": [
    "model.load_state_dict(torch.load(model_save_path, weights_only=True))\n",
    "# model.to(device)\n",
    "# model = torch.load(model_save_path, weights_only=False)\n",
    "model.eval()\n",
    "with torch.no_grad():\n",
    "    # outputs = model(**test_tokenized.to(device))\n",
    "    outputs = model(**test_tokenized)"
   ],
   "id": "ee78074b7b0cc779",
   "outputs": [],
   "execution_count": null
  },
  {
   "metadata": {},
   "cell_type": "markdown",
   "source": "# Save the pred",
   "id": "86d5816c6c0f161"
  },
  {
   "metadata": {},
   "cell_type": "code",
   "source": [
    "predictions = torch.argmax(outputs.logits, dim=-1).cpu()\n",
    "test_data['pred_label'] = predictions\n",
    "test_data.to_csv(pred_save_path, sep=',', header=True, index=True)"
   ],
   "id": "70d988bcddb4bf4f",
   "outputs": [],
   "execution_count": null
  },
  {
   "metadata": {},
   "cell_type": "markdown",
   "source": "# Calculate Acc",
   "id": "1723361e9e65ed7d"
  },
  {
   "metadata": {},
   "cell_type": "code",
   "source": [
    "import pandas as pd\n",
    "from sklearn.metrics import accuracy_score, precision_score, recall_score, f1_score\n",
    "\n",
    "df = pd.read_csv(pred_save_path, sep=',', header=0)\n",
    "df['Original_Label'] = df['Original_Label'].map(label_mapping)\n",
    "correct_predictions = (df['Original_Label'] == df['pred_label']).sum()\n",
    "total_predictions = len(df)\n",
    "\n",
    "accuracy = accuracy_score(df['Original_Label'], df['pred_label'])\n",
    "precision = precision_score(df['Original_Label'], df['pred_label'], average='weighted')\n",
    "recall = recall_score(df['Original_Label'], df['pred_label'], average='weighted')\n",
    "f1 = f1_score(df['Original_Label'], df['pred_label'], average='weighted')\n",
    "\n",
    "print(f'Accuracy: {accuracy * 100:.2f}')\n",
    "print(f'Precision: {precision * 100:.2f}')\n",
    "print(f'Recall: {recall * 100:.2f}')\n",
    "print(f'F1-Score: {f1 * 100:.2f}')"
   ],
   "id": "f281f6a47f7a75e0",
   "outputs": [],
   "execution_count": null
  }
 ],
 "metadata": {
  "kernelspec": {
   "display_name": "Python 3",
   "language": "python",
   "name": "python3"
  },
  "language_info": {
   "codemirror_mode": {
    "name": "ipython",
    "version": 2
   },
   "file_extension": ".py",
   "mimetype": "text/x-python",
   "name": "python",
   "nbconvert_exporter": "python",
   "pygments_lexer": "ipython2",
   "version": "2.7.6"
  }
 },
 "nbformat": 4,
 "nbformat_minor": 5
}
