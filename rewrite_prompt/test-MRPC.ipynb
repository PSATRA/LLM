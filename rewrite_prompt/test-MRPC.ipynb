{
 "cells": [
  {
   "cell_type": "markdown",
   "metadata": {},
   "source": [
    "# API-info"
   ]
  },
  {
   "cell_type": "code",
   "metadata": {
    "ExecuteTime": {
     "end_time": "2024-09-07T13:04:45.884037Z",
     "start_time": "2024-09-07T13:04:45.401100Z"
    }
   },
   "source": [
    "from openai import OpenAI\n",
    "import httpx\n",
    "client = OpenAI(\n",
    "    base_url=\"https://api.xiaoai.plus/v1\",\n",
    "    api_key=\"sk-gjmt4deRRB00reuN10Af64DdBeDd4a8e8b45Fb58Bd57A631\",\n",
    "    http_client=httpx.Client(\n",
    "        base_url=\"https://api.xiaoai.plus/v1\",\n",
    "        follow_redirects=True,\n",
    "    ),\n",
    ")"
   ],
   "outputs": [],
   "execution_count": 7
  },
  {
   "cell_type": "markdown",
   "metadata": {},
   "source": [
    "# Zero-shot"
   ]
  },
  {
   "cell_type": "code",
   "metadata": {
    "ExecuteTime": {
     "end_time": "2024-09-22T08:30:18.940157Z",
     "start_time": "2024-09-22T08:30:18.930608Z"
    }
   },
   "source": [
    "\n",
    "completion = client.chat.completions.create(\n",
    "    model = \"gpt-4o-mini\",\n",
    "    messages = [\n",
    "        {\"role\": \"system\", \"content\": (\n",
    "            \"You will be provided with two sentences.\"\n",
    "            \"Your task is to rewrite the given sentences respectively without changing their meaning.\"\n",
    "            \n",
    "            \"Output format:\"\n",
    "            \"You should output two lines, with each rewritten sentence at one line.\"\n",
    "            \n",
    "        )},\n",
    "        {\"role\": \"user\", \"content\":\n",
    "            \"sentences one: The virus spreads when unsuspecting computer users open file attachments in emails that contain familiar headings like 'Thank You!' and 'Re: Details'.\"\n",
    "            \"sentences two: Sobig.F spreads when unsuspecting computer users open file attachments in e-mails that contain such familiar headings as 'Thank You!,' 'Re: Details' or 'Re: That Movie.'\"} #1 v\n",
    "    ]\n",
    ")\n",
    "\n",
    "#print(completion.choices[0])\n",
    "print(completion.choices[0].message.content)"
   ],
   "outputs": [],
   "execution_count": null
  },
  {
   "metadata": {},
   "cell_type": "markdown",
   "source": "# Other prompts"
  },
  {
   "metadata": {},
   "cell_type": "code",
   "outputs": [],
   "execution_count": null,
   "source": "# system改user"
  },
  {
   "cell_type": "markdown",
   "metadata": {},
   "source": [
    "# 测试总结\n",
    "\n",
    "- 判断一致性\n",
    "\n",
    "- 随机抽取了数据集中的20条数据，改写后新句子之间的关系和原句均保持一致\n",
    "  \n",
    "- 正确改写的依据仅为新句子关系是否和原句一致，而对于句意的改动并没有任何限制或者要求。\n",
    "  \n",
    "- 从MRPC数据集的判断标准来看，“同义（1）”的标准较为宽松和不确定，甚至包含关系也属于等价句意。\n",
    "\n",
    "- 人为判断时新句子关系时，以原有数据关系的判断依据为标准。   \n",
    "  \n",
    "- 综合来看，由于判断标准较为模糊，不适合采用few-shot或者CoT来设计提示词，不然可能会限制模型的回答内容。 \n",
    "  \n",
    "- 在最后添加了leading word以限制回答格式。"
   ]
  }
 ],
 "metadata": {
  "kernelspec": {
   "display_name": "Python 3",
   "language": "python",
   "name": "python3"
  },
  "language_info": {
   "codemirror_mode": {
    "name": "ipython",
    "version": 3
   },
   "file_extension": ".py",
   "mimetype": "text/x-python",
   "name": "python",
   "nbconvert_exporter": "python",
   "pygments_lexer": "ipython3",
   "version": "3.11.9"
  }
 },
 "nbformat": 4,
 "nbformat_minor": 2
}
