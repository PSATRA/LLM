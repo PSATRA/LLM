{
 "cells": [
  {
   "cell_type": "markdown",
   "metadata": {},
   "source": [
    "# API-info"
   ]
  },
  {
   "cell_type": "code",
   "execution_count": 2,
   "metadata": {},
   "outputs": [],
   "source": [
    "from openai import OpenAI\n",
    "import httpx\n",
    "client = OpenAI(\n",
    "    base_url=\"https://api.xiaoai.plus/v1\",\n",
    "    api_key=\"sk-gjmt4deRRB00reuN10Af64DdBeDd4a8e8b45Fb58Bd57A631\",\n",
    "    http_client=httpx.Client(\n",
    "        base_url=\"https://api.xiaoai.plus/v1\",\n",
    "        follow_redirects=True,\n",
    "    ),\n",
    ")"
   ]
  },
  {
   "cell_type": "markdown",
   "metadata": {},
   "source": [
    "# Zero-shot"
   ]
  },
  {
   "cell_type": "code",
   "execution_count": 3,
   "metadata": {},
   "outputs": [
    {
     "name": "stdout",
     "output_type": "stream",
     "text": [
      "Sentence one rewrite: I stuck a pin through a carrot. When I pulled it out, there was a hole.  \n",
      "Sentence two rewrite: The carrot had a hole.\n"
     ]
    }
   ],
   "source": [
    "completion = client.chat.completions.create(\n",
    "    model = \"gpt-4o-mini\",\n",
    "    messages = [\n",
    "        {\"role\": \"system\", \"content\": (\n",
    "            \"You will be provided with two sentences.\"\n",
    "            \"Your task is to rewrite the given sentences respectively without changing their meanings.\"\n",
    "            \"Keep all the pronouns you encounter in the first sentence. There's no such constraint for the second one.\"\n",
    "            \n",
    "            \"Output format:\"\n",
    "            \"Sentence one rewrite: (end with '\\n')\"\n",
    "            \"Sentence two rewrite:\"\n",
    "            \n",
    "        )},\n",
    "        {\"role\": \"user\", \"content\": \n",
    "            \"sentence one: I stuck a pin through a carrot. When I pulled the pin out, it had a hole.\"\n",
    "            \"sentence two: The carrot had a hole.\"}\n",
    "    ]\n",
    ")\n",
    "\n",
    "print(completion.choices[0].message.content)"
   ]
  },
  {
   "cell_type": "markdown",
   "metadata": {},
   "source": [
    "结论：即便让它保留代词，也只是形式上的保留，有更改代词指代对象的风险，需要进一步指定保留规则。"
   ]
  },
  {
   "cell_type": "markdown",
   "metadata": {},
   "source": [
    "# CoT with zero-shot"
   ]
  },
  {
   "cell_type": "code",
   "execution_count": 3,
   "metadata": {},
   "outputs": [
    {
     "name": "stdout",
     "output_type": "stream",
     "text": [
      "The firemen arrived after the police because they were coming from so far away.  \n",
      "The police arrived from a long distance.\n"
     ]
    }
   ],
   "source": [
    "completion = client.chat.completions.create(\n",
    "    model = \"gpt-4o-mini\",\n",
    "    messages = [\n",
    "        {\"role\": \"system\", \"content\": (\n",
    "            \"You will be provided with two sentences.\"\n",
    "            \"Your task is to rewrite the given sentences respectively without changing their meanings.\"\n",
    "            \"Keep all the pronouns you encounter in the first sentence. There's no such constraint for the second sentence.\"\n",
    "            \n",
    "            \"Always remember that the two sentence are unrelated, so do not refer to each other when rewriting.\"\n",
    "            \n",
    "            \"first, find all the pronouns in the first sentence.\"\n",
    "            \"second, find the object to which the pronoun refers in the first sentence.\"\n",
    "            \"third, rewrite the context except the pronouns in the first sentence without any reference to the second sentence, keep all the original pronouns there.\"\n",
    "            \"fourth, check whether you changed any of the object (to which the pronoun refers) that you have found in second step in the first sentence, if so restart from the third step.\"\n",
    "            \"fifth, only output the content of your last rewrite version with the following format.\"\n",
    "            \"at last, rewrite the second sentence without any reference to the first sentence.\"\n",
    "            \n",
    "            \"Output format:\"\n",
    "            \"You should output two lines, with each rewrite sentence at one line.\"\n",
    "            \n",
    "        )},\n",
    "        {\"role\": \"user\", \"content\": \n",
    "            \"sentence one: The firemen arrived after the police because they were coming from so far away.\"\n",
    "            \"sentence two: The police were coming from so far away.\"}\n",
    "    ]\n",
    ")\n",
    "\n",
    "print(completion.choices[0].message.content)"
   ]
  },
  {
   "cell_type": "markdown",
   "metadata": {},
   "source": [
    "# 测试总结\n",
    "\n",
    "- 判断代词指代是否正确（第一句中含有代词）\n",
    "\n",
    "- 由于测试前提是第一个句子中含有代词，故而要求模型保留所有代词\n",
    "  \n",
    "- 由于需要分步骤，所以每一步任务都是单独的而不是混合\n",
    "  \n",
    "- 依然没有使用few-shot，认为这样仍会限制模型的改写方式\n",
    "\n",
    "- 两句话之间可能会相互参考，导致第二句话的代词被第一句话中的对象替代掉，这回影响结果判断，所以严格要求独立对待两句话，效果明显\n",
    "  "
   ]
  }
 ],
 "metadata": {
  "kernelspec": {
   "display_name": "Python 3",
   "language": "python",
   "name": "python3"
  },
  "language_info": {
   "codemirror_mode": {
    "name": "ipython",
    "version": 3
   },
   "file_extension": ".py",
   "mimetype": "text/x-python",
   "name": "python",
   "nbconvert_exporter": "python",
   "pygments_lexer": "ipython3",
   "version": "3.11.9"
  }
 },
 "nbformat": 4,
 "nbformat_minor": 2
}
