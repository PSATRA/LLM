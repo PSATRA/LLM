{
 "cells": [
  {
   "cell_type": "markdown",
   "metadata": {},
   "source": [
    "# API-info"
   ]
  },
  {
   "cell_type": "code",
   "execution_count": 2,
   "metadata": {},
   "outputs": [],
   "source": [
    "from openai import OpenAI\n",
    "import httpx\n",
    "client = OpenAI(\n",
    "    base_url=\"https://api.xiaoai.plus/v1\",\n",
    "    api_key=\"sk-gjmt4deRRB00reuN10Af64DdBeDd4a8e8b45Fb58Bd57A631\",\n",
    "    http_client=httpx.Client(\n",
    "        base_url=\"https://api.xiaoai.plus/v1\",\n",
    "        follow_redirects=True,\n",
    "    ),\n",
    ")"
   ]
  },
  {
   "cell_type": "markdown",
   "metadata": {},
   "source": [
    "# Zero-shot"
   ]
  },
  {
   "cell_type": "code",
   "execution_count": 5,
   "metadata": {},
   "outputs": [
    {
     "name": "stdout",
     "output_type": "stream",
     "text": [
      "If your own household is in good shape, worrying about your neighbor's spending is similar to being concerned about the color of his living-room rug.  \n",
      "You shouldn't concern yourself with the color of your neighbor's rug.\n"
     ]
    }
   ],
   "source": [
    "completion = client.chat.completions.create(\n",
    "    model = \"gpt-4o-mini\",\n",
    "    messages = [\n",
    "        {\"role\": \"system\", \"content\": (\n",
    "            \"You will be provided with two sentences.\"\n",
    "            \"Your task is to rewrite the given sentences respectively without changing their meaning.\"\n",
    "            \n",
    "            \"Output format:\"\n",
    "            \"You should output two lines, with each rewrite sentence at one line.\"\n",
    "            \n",
    "        )},\n",
    "        {\"role\": \"user\", \"content\": \n",
    "            \"sentence one: As long you have your own household in order, fretting about your neighbor's spending habits is a lot like fretting about the color of his living-room rug.\"\n",
    "            \"sentence two: You should worry about the color of your neighbor's rug.\"}\n",
    "    ]\n",
    ")\n",
    "\n",
    "print(completion.choices[0].message.content)"
   ]
  },
  {
   "cell_type": "markdown",
   "metadata": {},
   "source": [
    "结论：第二句？？？"
   ]
  },
  {
   "cell_type": "code",
   "execution_count": 3,
   "metadata": {},
   "outputs": [
    {
     "name": "stdout",
     "output_type": "stream",
     "text": [
      "My husband's grandmother is in a nursing home, and it's definitely been quite a challenge.  \n",
      "Moving my husband's grandmother into the nursing home has been a wonderful experience.\n"
     ]
    }
   ],
   "source": [
    "completion = client.chat.completions.create(\n",
    "    model = \"gpt-4o-mini\",\n",
    "    messages = [\n",
    "        {\"role\": \"system\", \"content\": (\n",
    "            \"You will be provided with two sentences.\"\n",
    "            \"Your task is to rewrite the given sentences respectively without changing their meanings.\"\n",
    "            \n",
    "            \"Always remember that the two sentence are unrelated, so do not refer to each other when rewriting.\"\n",
    "            \n",
    "            \"Output format:\"\n",
    "            \"You should output two lines, with each rewrite sentence at one line.\"\n",
    "            \n",
    "        )},\n",
    "        {\"role\": \"user\", \"content\": \n",
    "            \"sentence one: no um my husband has a grandmother in a nursing home and that has been a real mess to say the least\"\n",
    "            \"sentence two: It's been a dream once we moved my husband's grandmother into the nursing home.\"}\n",
    "    ]\n",
    ")\n",
    "\n",
    "print(completion.choices[0].message.content)"
   ]
  },
  {
   "cell_type": "markdown",
   "metadata": {},
   "source": [
    "# 测试总结\n",
    "\n",
    "- (matched指训练集和测试集的数据来源一致)\n",
    "\n",
    "- 判断第二句话是否能从第一句中推导出，和RTE区别：数据量更大，多种来源，三类（中性表示无关但没有矛盾）"
   ]
  }
 ],
 "metadata": {
  "kernelspec": {
   "display_name": "Python 3",
   "language": "python",
   "name": "python3"
  },
  "language_info": {
   "codemirror_mode": {
    "name": "ipython",
    "version": 3
   },
   "file_extension": ".py",
   "mimetype": "text/x-python",
   "name": "python",
   "nbconvert_exporter": "python",
   "pygments_lexer": "ipython3",
   "version": "3.11.9"
  }
 },
 "nbformat": 4,
 "nbformat_minor": 2
}
