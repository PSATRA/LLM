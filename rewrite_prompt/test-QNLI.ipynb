{
 "cells": [
  {
   "cell_type": "markdown",
   "metadata": {},
   "source": [
    "# API-info"
   ]
  },
  {
   "cell_type": "code",
   "execution_count": 2,
   "metadata": {},
   "outputs": [],
   "source": [
    "from openai import OpenAI\n",
    "import httpx\n",
    "client = OpenAI(\n",
    "    base_url=\"https://api.xiaoai.plus/v1\",\n",
    "    api_key=\"sk-gjmt4deRRB00reuN10Af64DdBeDd4a8e8b45Fb58Bd57A631\",\n",
    "    http_client=httpx.Client(\n",
    "        base_url=\"https://api.xiaoai.plus/v1\",\n",
    "        follow_redirects=True,\n",
    "    ),\n",
    ")"
   ]
  },
  {
   "cell_type": "markdown",
   "metadata": {},
   "source": [
    "# Zero-shot"
   ]
  },
  {
   "cell_type": "code",
   "execution_count": 4,
   "metadata": {},
   "outputs": [
    {
     "name": "stdout",
     "output_type": "stream",
     "text": [
      "Sentence: Which video formats can be used for UPnP streaming?  \n",
      "Paragraph: This is achievable with video files that have up to HD resolution and utilize various codecs (MPEG-2, MPEG-4, WMV) along with container formats (WMV, MOV, TS).\n"
     ]
    }
   ],
   "source": [
    "completion = client.chat.completions.create(\n",
    "    model = \"gpt-4o-mini\",\n",
    "    messages = [\n",
    "        {\"role\": \"system\", \"content\": (\n",
    "            \"You will be provided with a sentence and a paragraph.\"\n",
    "            \"Your task is to rewrite the sentence and the paragraph respectively without changing their meaning.\"\n",
    "            \n",
    "            \"Output format:\"\n",
    "            \"You should output two lines, with each rewrite sentence or paragraph at one line.\"\n",
    "            \n",
    "        )},\n",
    "        {\"role\": \"user\", \"content\":\n",
    "            \n",
    "            \"Sentence: What video formats are supported for UPnP streaming?\"\n",
    "            \"Paragraph: This is possible with video files up to HD-resolution and with several codecs (MPEG-2, MPEG-4, WMV) and container formats (WMV, MOV, TS).\"}\n",
    "    ]\n",
    ")\n",
    "\n",
    "#print(completion.choices[0])\n",
    "print(completion.choices[0].message.content)"
   ]
  },
  {
   "cell_type": "markdown",
   "metadata": {},
   "source": [
    "# 测试总结\n",
    "\n",
    "- 判断第一句话给出的问题是否能从段落中推导出答案\n",
    "\n",
    "- 在上下文含有代词时，（若和问题有关）模型可能会将代词指代的实体说出来，有一定风险，**但是目前还没有找到这样的反例**。\n",
    "  \n",
    "- 由于大模型可能根据问题来改写后面的上下文内容，可能导致原本无关的内容变得有关，故而可以限制模型在改写上下文时候不能参考前一问题。"
   ]
  }
 ],
 "metadata": {
  "kernelspec": {
   "display_name": "Python 3",
   "language": "python",
   "name": "python3"
  },
  "language_info": {
   "codemirror_mode": {
    "name": "ipython",
    "version": 3
   },
   "file_extension": ".py",
   "mimetype": "text/x-python",
   "name": "python",
   "nbconvert_exporter": "python",
   "pygments_lexer": "ipython3",
   "version": "3.11.9"
  }
 },
 "nbformat": 4,
 "nbformat_minor": 2
}
