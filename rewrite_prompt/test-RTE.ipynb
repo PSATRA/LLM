{
 "cells": [
  {
   "cell_type": "markdown",
   "metadata": {},
   "source": [
    "# API-info"
   ]
  },
  {
   "cell_type": "code",
   "execution_count": 1,
   "metadata": {},
   "outputs": [],
   "source": [
    "from openai import OpenAI\n",
    "import httpx\n",
    "client = OpenAI(\n",
    "    base_url=\"https://api.xiaoai.plus/v1\",\n",
    "    api_key=\"sk-gjmt4deRRB00reuN10Af64DdBeDd4a8e8b45Fb58Bd57A631\",\n",
    "    http_client=httpx.Client(\n",
    "        base_url=\"https://api.xiaoai.plus/v1\",\n",
    "        follow_redirects=True,\n",
    "    ),\n",
    ")"
   ]
  },
  {
   "cell_type": "markdown",
   "metadata": {},
   "source": [
    "# Zero-shot"
   ]
  },
  {
   "cell_type": "code",
   "execution_count": 4,
   "metadata": {},
   "outputs": [
    {
     "name": "stdout",
     "output_type": "stream",
     "text": [
      "Bülent Ecevit, a former Turkish prime minister and poet, passed away at the age of 81 after spending nearly six months in a coma due to a stroke. As prime minister, he oversaw the military intervention on July 20, 1974, aiming to thwart a coup by Greek forces in Cyprus, which ultimately led to the island's division and the establishment of the Turkish Republic of Northern Cyprus.  \n",
      "Ecevit was also known for his contributions to poetry.\n"
     ]
    }
   ],
   "source": [
    "completion = client.chat.completions.create(\n",
    "    model = \"gpt-4o-mini\",\n",
    "    #temperature = 0,\n",
    "    messages = [\n",
    "        {\"role\": \"system\", \"content\": (\n",
    "            \"You will be provided with a paragraph.\"\n",
    "            \"Your task is to rewrite the given paragraph without changing its meaning.\"\n",
    "            \n",
    "            \"Output format:\"\n",
    "            \"You should output only the rewritten paragraph at one line.\"\n",
    "        )},\n",
    "        {\"role\": \"user\", \"content\": \n",
    "            \"given paragraph: Bülent Ecevit, former prime minister of Turkey and poet, has died at 81. Ecevit was in a coma for nearly six months following a stroke. Ecevit was the prime minister of the government ordering a military intervention on July 20, 1974, to prevent a coup in Cyprus by Greek forces, dividing the island and setting the stage for the foundation of the breakaway Turkish Republic of Northern Cyprus.\"\n",
    "        }\n",
    "    ]\n",
    ")\n",
    "\n",
    "print(completion.choices[0].message.content)\n",
    "\n",
    "completion = client.chat.completions.create(\n",
    "    model = \"gpt-4o-mini\",\n",
    "    temperature = 0,\n",
    "    messages = [\n",
    "        {\"role\": \"system\", \"content\": (\n",
    "            \"You will be provided with a paragragh.\"\n",
    "            \"Your task is to rewrite the given paragraph without changing its meaning.\"\n",
    "            \"Do not refer to anything except the paragraph I give you later.\"\n",
    "            \n",
    "            \"Output format:\"\n",
    "            \"You should output only the rewritten paragraph at one line.\"\n",
    "        )},\n",
    "        {\"role\": \"user\", \"content\": \n",
    "            \"paragraph two: Bülent Ecevit was a poet.\"\n",
    "        }\n",
    "    ]\n",
    ")\n",
    "\n",
    "print(completion.choices[0].message.content)"
   ]
  },
  {
   "metadata": {},
   "cell_type": "markdown",
   "source": "# Other prompts"
  },
  {
   "metadata": {},
   "cell_type": "code",
   "outputs": [],
   "execution_count": null,
   "source": [
    "if original_label == \"entailment\":\n",
    "    label_meaning = \"the second rewritten paragraph should logically follows from the first rewritten paragraph.\"\n",
    "else:\n",
    "    label_meaning = \"the second rewritten paragraph should not logically follow from the first rewritten paragraph.\"\n",
    "\n",
    "completion = client.chat.completions.create(\n",
    "    model=\"gpt-4o-mini\",\n",
    "    # temperature = 0, # dispensable ???\n",
    "    messages=[\n",
    "        {\"role\": \"user\", \"content\": (\n",
    "            \"You will be provided with two paragraphs\"\n",
    "\n",
    "            f\"Paragraph one: {sentence1}\"\n",
    "            f\"Paragraph two: {sentence2}\"\n",
    "\n",
    "            \"Your task is to rewrite these two paragraphs under the following rules: \"\n",
    "            \"Rule one: rewrite the given paragraphs without changing their meaning.\"\n",
    "            f\"Rule two: after rewrite, {label_meaning}\"\n",
    "\n",
    "            \"Output format:\"\n",
    "            \"You should first rewrite the first paragraph and output the rewritten version of the first paragraph in the first line.\"\n",
    "            \"Then rewrite the second paragraph and output the rewritten version of the second paragraph in the second line.\"\n",
    "            \"The two lines should be seperated by \\\\n\"\n",
    "        )},\n",
    "    ]\n",
    ")"
   ]
  },
  {
   "cell_type": "markdown",
   "metadata": {},
   "source": [
    "# 测试总结\n",
    "\n",
    "- 判断第二句话是否能从第一句中推导出\n",
    "  \n",
    "- 测试了30组数据，除了一组数据本身有问题之外，其余句子改写后的关系均与原句关系一致\n",
    "  \n",
    "- 发现一个问题：如果不明确告诉大模型两句话可能没有关联，大模型有自行以第一句话为背景来改写第二句话的倾向（WTO/OMC），但是对于句义关系判断不影响"
   ]
  }
 ],
 "metadata": {
  "kernelspec": {
   "display_name": "Python 3",
   "language": "python",
   "name": "python3"
  },
  "language_info": {
   "codemirror_mode": {
    "name": "ipython",
    "version": 3
   },
   "file_extension": ".py",
   "mimetype": "text/x-python",
   "name": "python",
   "nbconvert_exporter": "python",
   "pygments_lexer": "ipython3",
   "version": "3.11.9"
  }
 },
 "nbformat": 4,
 "nbformat_minor": 2
}
