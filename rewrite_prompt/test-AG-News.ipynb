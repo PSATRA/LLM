{
 "cells": [
  {
   "cell_type": "markdown",
   "metadata": {},
   "source": [
    "# API-info"
   ]
  },
  {
   "cell_type": "code",
   "metadata": {
    "ExecuteTime": {
     "end_time": "2024-09-03T13:53:14.600208Z",
     "start_time": "2024-09-03T13:53:13.591978Z"
    }
   },
   "source": [
    "from openai import OpenAI\n",
    "import httpx\n",
    "client = OpenAI(\n",
    "    base_url=\"https://api.xiaoai.plus/v1\",\n",
    "    api_key=\"sk-gjmt4deRRB00reuN10Af64DdBeDd4a8e8b45Fb58Bd57A631\",\n",
    "    http_client=httpx.Client(\n",
    "        base_url=\"https://api.xiaoai.plus/v1\",\n",
    "        follow_redirects=True,\n",
    "    ),\n",
    ")"
   ],
   "outputs": [],
   "execution_count": 1
  },
  {
   "cell_type": "markdown",
   "metadata": {},
   "source": [
    "# Zero-shot"
   ]
  },
  {
   "cell_type": "code",
   "execution_count": 3,
   "metadata": {},
   "outputs": [
    {
     "name": "stdout",
     "output_type": "stream",
     "text": [
      "AL Wrap: Durazo's Performance Adds to Baltimore's Struggles  \n",
      "NEW YORK (Reuters) - Erubiel Durazo's three-run home run in the second inning propelled the Oakland Athletics to a 9-4 victory over the struggling Baltimore Orioles, keeping them at the helm of the American League (AL) West on Thursday.\n"
     ]
    }
   ],
   "source": [
    "completion = client.chat.completions.create(\n",
    "    model = \"gpt-4o-mini\",\n",
    "    #temperature = 0,\n",
    "    messages = [\n",
    "        {\"role\": \"system\", \"content\": (\n",
    "            \"You will be provided with two paragraphs.\"\n",
    "            \"Your task is to rewrite the given paragraphs respectively without changing their meaning.\"\n",
    "            \n",
    "            \"Output format:\"\n",
    "            \"You should output two lines, with each rewrite paragraph on one line. Don't write the paragraph index like 'paragraph one' or 'paragraph two'.\"\n",
    "\n",
    "        )},\n",
    "        {\"role\": \"user\", \"content\": \n",
    "            \"paragraph one: AL Wrap: Oakland's Durazo Piles on Misery for Baltimore\"\n",
    "            \"paragraph two: NEW YORK (Reuters) - Erubiel Durazo's three-run homer in  the second inning helped the Oakland Athletics remain top of  the American League (AL) West with a 9-4 win over the reeling  Baltimore Orioles Thursday.\"}\n",
    "    ]\n",
    ")\n",
    "\n",
    "print(completion.choices[0].message.content)"
   ]
  },
  {
   "cell_type": "markdown",
   "metadata": {},
   "source": [
    "# 测试总结\n",
    "\n",
    "- 1-World\n",
    "  \n",
    "- 2-Sports\n",
    "\n",
    "- 3-Business\n",
    "\n",
    "- 4-Sci/Tech"
   ]
  }
 ],
 "metadata": {
  "kernelspec": {
   "display_name": "Python 3",
   "language": "python",
   "name": "python3"
  },
  "language_info": {
   "codemirror_mode": {
    "name": "ipython",
    "version": 3
   },
   "file_extension": ".py",
   "mimetype": "text/x-python",
   "name": "python",
   "nbconvert_exporter": "python",
   "pygments_lexer": "ipython3",
   "version": "3.11.9"
  }
 },
 "nbformat": 4,
 "nbformat_minor": 2
}
