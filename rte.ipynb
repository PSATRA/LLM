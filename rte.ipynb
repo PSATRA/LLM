{
 "cells": [
  {
   "metadata": {},
   "cell_type": "markdown",
   "source": [
    "# RTE\n",
    "\n",
    "- Determine if the second sentence can be deduced from the first sentence\n",
    "- Fine-tuned on pre-trained model - BERT, RoBERTa, ALBERT, DeBERTa, Electra"
   ],
   "id": "d7b04ad2ed5fdda5"
  },
  {
   "metadata": {
    "ExecuteTime": {
     "end_time": "2024-09-13T22:43:19.836961Z",
     "start_time": "2024-09-13T22:43:19.819451Z"
    }
   },
   "cell_type": "code",
   "source": [
    "test_num = 0\n",
    "bool_rewrite = 1\n",
    "cuda_NO = 'cuda:0'\n",
    "model_name = 'bert'\n",
    "learning_rate = 2e-5\n",
    "num_epoch = 20\n",
    "use_colab = 0\n",
    "batch_size = 16\n",
    "rand_seed = 42\n",
    "\n",
    "print(\"____________________________________________________________________________________________________________\")\n",
    "print(f\"Pre-trained model: {model_name}\")\n",
    "\n",
    "label_mapping = {\n",
    "    'not_entailment': 0,\n",
    "    'entailment': 1\n",
    "}\n",
    "\n",
    "if bool_rewrite == 0:\n",
    "    print(f\"Training on ORIGINAL data, test_num: {test_num}\")\n",
    "    model_save_path = f'model/my-{model_name}-rte-weights-{test_num}.pth'\n",
    "else:\n",
    "    print(f\"Training on REWRITTEN data, test_num: {test_num}\")\n",
    "    model_save_path = f'model/my-{model_name}-rte-weights-rewrite-{test_num}.pth'\n",
    "pred_save_path = 'DS/RTE/dev_pred.tsv'"
   ],
   "id": "102de8ac11f1c534",
   "outputs": [],
   "execution_count": 1
  },
  {
   "cell_type": "code",
   "id": "d7b858078e383527",
   "metadata": {
    "colab": {
     "base_uri": "https://localhost:8080/"
    },
    "executionInfo": {
     "elapsed": 462,
     "status": "ok",
     "timestamp": 1725536007252,
     "user": {
      "displayName": "ge li",
      "userId": "15899422419636771421"
     },
     "user_tz": -480
    },
    "id": "d7b858078e383527",
    "outputId": "dcc07ea4-23a0-4a5e-d4cd-0cd2d6acad31",
    "ExecuteTime": {
     "end_time": "2024-09-25T03:23:38.081323Z",
     "start_time": "2024-09-25T03:23:38.071318Z"
    }
   },
   "source": [
    "!nvidia-smi \n",
    "\n",
    "if use_colab == 1:\n",
    "    from google.colab import drive\n",
    "    drive.mount('/content/drive')\n",
    "    import os\n",
    "    os.chdir('/content/drive/Othercomputers/我的笔记本电脑/openai')\n",
    "    \n",
    "import os\n",
    "os.environ[\"HF_ENDPOINT\"] = \"https://hf-mirror.com\"\n",
    "\n",
    "import torch\n",
    "print(torch.cuda.is_available())\n",
    "device = f\"{cuda_NO}\" if torch.cuda.is_available() else \"cpu\"\n",
    "print(device)"
   ],
   "outputs": [],
   "execution_count": null
  },
  {
   "metadata": {},
   "cell_type": "markdown",
   "source": "# Set Random Seed",
   "id": "94235e6d1869f62"
  },
  {
   "metadata": {},
   "cell_type": "code",
   "outputs": [],
   "execution_count": null,
   "source": [
    "import numpy as np\n",
    "import random\n",
    "\n",
    "def set_seed(seed):\n",
    "    random.seed(seed)\n",
    "    np.random.seed(seed)\n",
    "    torch.manual_seed(seed)\n",
    "    torch.cuda.manual_seed_all(seed)\n",
    "    torch.backends.cudnn.deterministic = True\n",
    "    torch.backends.cudnn.benchmark = False\n",
    "\n",
    "set_seed(rand_seed)"
   ],
   "id": "95fafc580443c63d"
  },
  {
   "cell_type": "markdown",
   "id": "302af78c9f0efb35",
   "metadata": {
    "id": "302af78c9f0efb35"
   },
   "source": [
    "# Load Model and Tokenizer"
   ]
  },
  {
   "cell_type": "code",
   "id": "19575203c23d0eac",
   "metadata": {
    "colab": {
     "base_uri": "https://localhost:8080/"
    },
    "executionInfo": {
     "elapsed": 903,
     "status": "ok",
     "timestamp": 1725536075883,
     "user": {
      "displayName": "ge li",
      "userId": "15899422419636771421"
     },
     "user_tz": -480
    },
    "id": "19575203c23d0eac",
    "outputId": "43f5f7a5-8a37-444c-8f59-8dfc9cd070ed",
    "ExecuteTime": {
     "end_time": "2024-09-10T13:08:21.741964Z",
     "start_time": "2024-09-10T13:08:21.730906Z"
    }
   },
   "source": [
    "from transformers import BertForSequenceClassification, RobertaForSequenceClassification, AlbertForSequenceClassification, DebertaForSequenceClassification, ElectraForSequenceClassification\n",
    "from transformers import BertTokenizer, RobertaTokenizer, AlbertTokenizer, DebertaTokenizer, ElectraTokenizer\n",
    "\n",
    "if model_name == \"bert\":\n",
    "    tokenizer = BertTokenizer.from_pretrained(\"bert-base-uncased\")\n",
    "    model = BertForSequenceClassification.from_pretrained(\"bert-base-uncased\")\n",
    "elif model_name == \"roberta\":\n",
    "    tokenizer = RobertaTokenizer.from_pretrained(\"roberta-base\")\n",
    "    model = RobertaForSequenceClassification.from_pretrained(\"roberta-base\")\n",
    "elif model_name == \"albert\":\n",
    "    tokenizer = AlbertTokenizer.from_pretrained(\"albert-base-v2\")\n",
    "    model = AlbertForSequenceClassification.from_pretrained(\"albert-base-v2\")\n",
    "elif model_name == \"deberta\":\n",
    "    tokenizer = DebertaTokenizer.from_pretrained(\"microsoft/deberta-base\")\n",
    "    model = DebertaForSequenceClassification.from_pretrained(\"microsoft/deberta-base\")\n",
    "elif model_name == \"electra\":\n",
    "    tokenizer = ElectraTokenizer.from_pretrained(\"google/electra-base-discriminator\")\n",
    "    model = ElectraForSequenceClassification.from_pretrained(\"google/electra-base-discriminator\")\n",
    "else:\n",
    "    raise ValueError(f\"Model {model_name} not supported.\")"
   ],
   "outputs": [],
   "execution_count": 4
  },
  {
   "cell_type": "markdown",
   "id": "1fd1ca27eb0676f2",
   "metadata": {
    "id": "1fd1ca27eb0676f2"
   },
   "source": [
    "# Read Data"
   ]
  },
  {
   "cell_type": "code",
   "execution_count": null,
   "id": "e8a922fd1b310bb8",
   "metadata": {
    "ExecuteTime": {
     "end_time": "2024-09-05T07:39:18.640209Z",
     "start_time": "2024-09-05T07:39:16.628367Z"
    },
    "id": "e8a922fd1b310bb8"
   },
   "outputs": [],
   "source": [
    "import pandas as pd\n",
    "from sklearn.model_selection import train_test_split\n",
    "\n",
    "train_data = pd.read_csv('DS/RTE/train-RTE-rewrite-taskUnknown.tsv', sep='\\t', header=0)\n",
    "test_data = pd.read_csv('DS/RTE/dev-RTE-rewrite-taskUnknown.tsv', sep='\\t', header=0)\n",
    "\n",
    "train_data, val_data = train_test_split(train_data, test_size=0.1, random_state=rand_seed)\n",
    "\n",
    "if bool_rewrite == 0:\n",
    "    train_tokenized = tokenizer(\n",
    "        list(train_data['Sentence1']),\n",
    "        list(train_data['Sentence2']),\n",
    "        return_tensors='pt', padding=True, truncation=True\n",
    "    )\n",
    "\n",
    "    val_tokenized = tokenizer(\n",
    "        list(val_data['Sentence1']),\n",
    "        list(val_data['Sentence2']),\n",
    "        return_tensors='pt', padding=True, truncation=True\n",
    "    )\n",
    "    test_tokenized = tokenizer(\n",
    "        list(test_data['Sentence1']),\n",
    "        list(test_data['Sentence2']),\n",
    "        return_tensors='pt', padding=True, truncation=True\n",
    "    )\n",
    "\n",
    "else:\n",
    "    train_tokenized = tokenizer(\n",
    "        list(train_data['Sentence1-Rewrite']),\n",
    "        list(train_data['Sentence2-Rewrite']),\n",
    "        return_tensors='pt', padding=True, truncation=True\n",
    "    )\n",
    "\n",
    "    val_tokenized = tokenizer(\n",
    "        list(val_data['Sentence1-Rewrite']),\n",
    "        list(val_data['Sentence2-Rewrite']),\n",
    "        return_tensors='pt', padding=True, truncation=True\n",
    "    )\n",
    "    test_tokenized = tokenizer(\n",
    "        list(test_data['Sentence1-Rewrite']),\n",
    "        list(test_data['Sentence2-Rewrite']),\n",
    "        return_tensors='pt', padding=True, truncation=True\n",
    "    )"
   ]
  },
  {
   "cell_type": "markdown",
   "id": "2f6095d893824fb9",
   "metadata": {
    "id": "2f6095d893824fb9"
   },
   "source": [
    "# Dataset and Dataloader"
   ]
  },
  {
   "cell_type": "code",
   "execution_count": null,
   "id": "309bf7c8f7c688c0",
   "metadata": {
    "ExecuteTime": {
     "end_time": "2024-09-05T08:17:48.183360Z",
     "start_time": "2024-09-05T08:17:48.112043Z"
    },
    "id": "309bf7c8f7c688c0"
   },
   "outputs": [],
   "source": [
    "from torch.utils.data import Dataset, DataLoader\n",
    "\n",
    "class RTE_Dataset(Dataset):\n",
    "    def __init__(self, tokenized_data, labels):\n",
    "        self.data = tokenized_data\n",
    "        self.labels = [label_mapping[label] for label in labels]\n",
    "\n",
    "    def __len__(self):\n",
    "        return len(self.labels)\n",
    "\n",
    "    def __getitem__(self, idx):\n",
    "        return {\n",
    "            'input_ids': self.data['input_ids'][idx],\n",
    "            'attention_mask': self.data['attention_mask'][idx],\n",
    "            'label': torch.tensor(self.labels[idx])\n",
    "        }\n",
    "\n",
    "train_dataset = RTE_Dataset(train_tokenized, list(train_data['Original_Label']))\n",
    "val_dataset = RTE_Dataset(val_tokenized, list(val_data['Original_Label']))\n",
    "\n",
    "train_loader = DataLoader(train_dataset, batch_size=16, shuffle=True, pin_memory=True)\n",
    "val_loader = DataLoader(val_dataset, batch_size=16, shuffle=False, pin_memory=True)"
   ]
  },
  {
   "cell_type": "markdown",
   "id": "7aeb9e7473b418ea",
   "metadata": {
    "id": "7aeb9e7473b418ea"
   },
   "source": [
    "# Fine-Tune"
   ]
  },
  {
   "cell_type": "code",
   "id": "3814e86b34b7484e",
   "metadata": {
    "colab": {
     "base_uri": "https://localhost:8080/"
    },
    "id": "3814e86b34b7484e",
    "outputId": "7398dca0-d058-4574-d7d8-ed3feee0e783",
    "ExecuteTime": {
     "end_time": "2024-09-09T04:46:49.406237Z",
     "start_time": "2024-09-09T04:46:49.396230Z"
    }
   },
   "source": [
    "import torch, gc\n",
    "from tqdm import tqdm\n",
    "from transformers import get_scheduler, SchedulerType\n",
    "\n",
    "gc.collect()\n",
    "torch.cuda.empty_cache()\n",
    "model.to(device)\n",
    "\n",
    "lr = learning_rate\n",
    "validation = True\n",
    "total_step = len(train_loader) * num_epoch\n",
    "weight_decay = 0.01\n",
    "best_acc = 0\n",
    "\n",
    "early_stop = 100\n",
    "early_stop_count = 0\n",
    "\n",
    "optimizer = torch.optim.AdamW(model.parameters(), lr=lr, weight_decay=weight_decay)\n",
    "num_warmup_steps = int(total_step * 0.1)\n",
    "scheduler = get_scheduler(\n",
    "    name = SchedulerType.LINEAR,\n",
    "    optimizer = optimizer,\n",
    "    num_warmup_steps = num_warmup_steps,\n",
    "    num_training_steps = total_step - num_warmup_steps\n",
    ")\n",
    "\n",
    "for epoch in range(num_epoch):\n",
    "    # Training\n",
    "    model.train()\n",
    "    total_train_loss = 0\n",
    "    for batch in tqdm(train_loader):\n",
    "        input_ids = batch['input_ids'].to(device)\n",
    "        attention_mask = batch['attention_mask'].to(device)\n",
    "        labels = batch['label'].to(device)\n",
    "\n",
    "        outputs = model(input_ids=input_ids, attention_mask=attention_mask, labels=labels)\n",
    "        loss = outputs.loss\n",
    "        total_train_loss += loss.item()\n",
    "\n",
    "        optimizer.zero_grad()\n",
    "        loss.backward()\n",
    "        optimizer.step()\n",
    "        scheduler.step()\n",
    "\n",
    "    avg_train_loss = total_train_loss / len(train_loader)\n",
    "    print(f\"Epoch {epoch+1}/{num_epoch}, Average Training Loss: {avg_train_loss}\")\n",
    "\n",
    "    # Validation\n",
    "    if validation:\n",
    "        model.eval()\n",
    "        total_val_loss = 0\n",
    "        correct_predictions = 0\n",
    "        with torch.no_grad():\n",
    "            for batch in tqdm(val_loader):\n",
    "                input_ids = batch['input_ids'].to(device)\n",
    "                attention_mask = batch['attention_mask'].to(device)\n",
    "                labels = batch['label'].to(device)\n",
    "\n",
    "                outputs = model(input_ids=input_ids, attention_mask=attention_mask, labels=labels)\n",
    "                loss = outputs.loss\n",
    "                total_val_loss += loss.item()\n",
    "\n",
    "                preds = torch.argmax(outputs.logits, dim=-1)\n",
    "                correct_predictions += torch.sum((preds == labels).int())\n",
    "\n",
    "        avg_val_loss = total_val_loss / len(val_loader)\n",
    "        val_acc = correct_predictions.double() / len(val_data)\n",
    "        print(f\"Average Validation Loss: {avg_val_loss}, Validation Accuracy: {val_acc}\")\n",
    "\n",
    "        if val_acc > best_acc:\n",
    "            best_acc = val_acc\n",
    "            torch.save(model.state_dict(), model_save_path)\n",
    "            print('Saving model with val_acc {:.3f}...'.format(best_acc))\n",
    "            early_stop_count = 0\n",
    "        else:\n",
    "            early_stop_count += 1\n",
    "\n",
    "        if early_stop_count >= early_stop:\n",
    "            print('\\nModel is not improving, so we halt the training session.')\n",
    "            break\n",
    "\n",
    "    if not validation:\n",
    "        torch.save(model.state_dict(), model_save_path)"
   ],
   "outputs": [],
   "execution_count": null
  },
  {
   "cell_type": "markdown",
   "id": "dca61ef8b2b79bc4",
   "metadata": {
    "id": "dca61ef8b2b79bc4"
   },
   "source": [
    "# Prediction"
   ]
  },
  {
   "cell_type": "code",
   "id": "a538d6b1ad571f8f",
   "metadata": {
    "id": "a538d6b1ad571f8f",
    "ExecuteTime": {
     "end_time": "2024-09-10T13:11:24.989023Z",
     "start_time": "2024-09-10T13:11:24.976508Z"
    }
   },
   "source": [
    "if model_name == \"bert\":\n",
    "    model = BertForSequenceClassification.from_pretrained(\"bert-base-uncased\")\n",
    "elif model_name == \"roberta\":\n",
    "    model = RobertaForSequenceClassification.from_pretrained(\"roberta-base\")\n",
    "elif model_name == \"albert\":\n",
    "    model = AlbertForSequenceClassification.from_pretrained(\"albert-base-v2\")\n",
    "elif model_name == \"deberta\":\n",
    "    model = DebertaForSequenceClassification.from_pretrained(\"microsoft/deberta-base\")\n",
    "elif model_name == \"electra\":\n",
    "    model = ElectraForSequenceClassification.from_pretrained(\"google/electra-base-discriminator\")\n",
    "else:\n",
    "    raise ValueError(f\"Model {model_name} not supported.\")\n",
    "\n",
    "model.load_state_dict(torch.load(model_save_path, weights_only=True))\n",
    "model.eval()\n",
    "with torch.no_grad():\n",
    "    outputs = model(**test_tokenized)"
   ],
   "outputs": [],
   "execution_count": 4
  },
  {
   "cell_type": "markdown",
   "id": "2bc9ffd1bb079de",
   "metadata": {
    "id": "2bc9ffd1bb079de"
   },
   "source": "# Save the pred"
  },
  {
   "cell_type": "code",
   "id": "73c57c6f235bdbe7",
   "metadata": {
    "id": "73c57c6f235bdbe7",
    "ExecuteTime": {
     "end_time": "2024-09-10T13:11:29.698627Z",
     "start_time": "2024-09-10T13:11:29.687691Z"
    }
   },
   "source": [
    "predictions = torch.argmax(outputs.logits, dim=-1).cpu()\n",
    "test_data['pred_label'] = predictions\n",
    "test_data.to_csv(pred_save_path, sep='\\t', header=True, index=False)"
   ],
   "outputs": [],
   "execution_count": 4
  },
  {
   "cell_type": "markdown",
   "id": "d28edcf08ba7311f",
   "metadata": {
    "id": "d28edcf08ba7311f"
   },
   "source": "# Calculate Acc"
  },
  {
   "cell_type": "code",
   "id": "8e93ad81b0542f50",
   "metadata": {
    "id": "8e93ad81b0542f50",
    "outputId": "7615f5d4-a1f8-46c0-c128-e8a014ec6df8",
    "ExecuteTime": {
     "end_time": "2024-10-23T00:51:07.817644Z",
     "start_time": "2024-10-23T00:51:07.807564Z"
    }
   },
   "source": [
    "import pandas as pd\n",
    "from sklearn.metrics import accuracy_score, precision_score, recall_score, f1_score\n",
    "\n",
    "df = pd.read_csv(pred_save_path, sep='\\t', header=0)\n",
    "df['Original_Label'] = df['Original_Label'].map(label_mapping)\n",
    "correct_predictions = (df['Original_Label'] == df['pred_label']).sum()\n",
    "total_predictions = len(df)\n",
    "\n",
    "accuracy = accuracy_score(df['Original_Label'], df['pred_label'])\n",
    "precision = precision_score(df['Original_Label'], df['pred_label'], average='macro')\n",
    "recall = recall_score(df['Original_Label'], df['pred_label'], average='macro')\n",
    "f1 = f1_score(df['Original_Label'], df['pred_label'], average='macro')\n",
    "\n",
    "print(f'{accuracy * 100:.2f} / {precision * 100:.2f} / {recall * 100:.2f} / {f1 * 100:.2f}')"
   ],
   "outputs": [],
   "execution_count": null
  }
 ],
 "metadata": {
  "colab": {
   "provenance": []
  },
  "kernelspec": {
   "display_name": "Python 3 (ipykernel)",
   "language": "python",
   "name": "python3"
  },
  "language_info": {
   "codemirror_mode": {
    "name": "ipython",
    "version": 2
   },
   "file_extension": ".py",
   "mimetype": "text/x-python",
   "name": "python",
   "nbconvert_exporter": "python",
   "pygments_lexer": "ipython2",
   "version": "2.7.6"
  }
 },
 "nbformat": 4,
 "nbformat_minor": 5
}
