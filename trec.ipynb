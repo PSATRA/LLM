{
 "cells": [
  {
   "metadata": {},
   "cell_type": "markdown",
   "source": [
    "# TREC-Question classification\n",
    "\n",
    "1. DESC (Description): Questions asking for descriptions (e.g., \"What is the meaning of life?\").\n",
    "2. ENTY (Entity): Questions asking about specific entities (e.g., \"What is the capital of Germany?\").\n",
    "3. ABBR (Abbreviation): Questions about abbreviations or acronyms (e.g., \"What does CPU stand for?\").\n",
    "4. HUM (Human): Questions about people (e.g., \"Who discovered penicillin?\").\n",
    "5. LOC (Location): Questions about places (e.g., \"Where is Mount Everest located?\").\n",
    "6. NUM (Numeric): Questions that expect a number, like dates or quantities (e.g., \"How many people live in New York City?\")."
   ],
   "id": "18e0f69f1d80d342"
  },
  {
   "metadata": {
    "ExecuteTime": {
     "end_time": "2024-09-25T03:14:15.806548Z",
     "start_time": "2024-09-25T03:14:15.798535Z"
    }
   },
   "cell_type": "code",
   "source": [
    "test_num = 0\n",
    "bool_rewrite = 0\n",
    "cuda_NO = 'cuda:0'\n",
    "model_name = 'bert'\n",
    "learning_rate = 2e-5\n",
    "use_colab = 0\n",
    "batch_size = 16\n",
    "rand_seed = 42\n",
    "\n",
    "print(\"____________________________________________________________________________________________________________\")\n",
    "print(f\"Pre-trained model: {model_name}\")\n",
    "\n",
    "#TODO: label_mapping\n",
    "\n",
    "if bool_rewrite == 0:\n",
    "    print(f\"Training on ORIGINAL data, test_num: {test_num}\")\n",
    "    model_save_path = f'model/my-{model_name}-trec-weights-{test_num}.pth'\n",
    "else:\n",
    "    print(f\"Training on REWRITTEN data, test_num: {test_num}\")\n",
    "    model_save_path = f'model/my-{model_name}-trec-weights-rewrite-{test_num}.pth'\n",
    "pred_save_path = 'DS/TREC/test_pred.tsv'"
   ],
   "id": "3d1a87fc5678ec5e",
   "outputs": [],
   "execution_count": 3
  },
  {
   "metadata": {},
   "cell_type": "code",
   "outputs": [],
   "execution_count": null,
   "source": [
    "if use_colab == 1:\n",
    "    from google.colab import drive\n",
    "    drive.mount('/content/drive')\n",
    "    import os\n",
    "    os.chdir('/content/drive/Othercomputers/我的笔记本电脑/openai')"
   ],
   "id": "59d8b2796cbb9b2f"
  },
  {
   "metadata": {},
   "cell_type": "code",
   "outputs": [],
   "execution_count": null,
   "source": "!nvidia-smi",
   "id": "d734b527bbee6028"
  },
  {
   "metadata": {},
   "cell_type": "code",
   "outputs": [],
   "execution_count": null,
   "source": [
    "import os\n",
    "os.environ[\"HF_ENDPOINT\"] = \"https://hf-mirror.com\""
   ],
   "id": "b1f657ab4a6cdac8"
  },
  {
   "metadata": {
    "ExecuteTime": {
     "end_time": "2024-09-25T03:14:23.869693Z",
     "start_time": "2024-09-25T03:14:23.858520Z"
    }
   },
   "cell_type": "code",
   "source": [
    "import torch\n",
    "print(torch.cuda.is_available())\n",
    "device = f\"{cuda_NO}\" if torch.cuda.is_available() else \"cpu\"\n",
    "print(device)"
   ],
   "id": "4aefa5e7c3eba7be",
   "outputs": [],
   "execution_count": 3
  },
  {
   "metadata": {},
   "cell_type": "markdown",
   "source": "# Set Random Seed",
   "id": "1cb441dd0fcca601"
  },
  {
   "metadata": {},
   "cell_type": "code",
   "outputs": [],
   "execution_count": null,
   "source": [
    "import numpy as np\n",
    "import random\n",
    "\n",
    "def set_seed(seed):\n",
    "    random.seed(seed)\n",
    "    np.random.seed(seed)\n",
    "    torch.manual_seed(seed)\n",
    "    torch.cuda.manual_seed_all(seed)\n",
    "    torch.backends.cudnn.deterministic = True\n",
    "    torch.backends.cudnn.benchmark = False\n",
    "\n",
    "set_seed(rand_seed)"
   ],
   "id": "13abfe7349727fc8"
  },
  {
   "metadata": {},
   "cell_type": "markdown",
   "source": "# Load Model and Tokenizer",
   "id": "d57c0eb82939d379"
  },
  {
   "metadata": {},
   "cell_type": "code",
   "outputs": [],
   "execution_count": null,
   "source": [
    "from transformers import BertForSequenceClassification, RobertaForSequenceClassification, AlbertForSequenceClassification, DebertaForSequenceClassification, ElectraForSequenceClassification\n",
    "from transformers import BertTokenizer, RobertaTokenizer, AlbertTokenizer, DebertaTokenizer, ElectraTokenizer\n",
    "\n",
    "if model_name == \"bert\":\n",
    "    tokenizer = BertTokenizer.from_pretrained(\"bert-base-uncased\")\n",
    "    model = BertForSequenceClassification.from_pretrained(\"bert-base-uncased\")\n",
    "elif model_name == \"roberta\":\n",
    "    tokenizer = RobertaTokenizer.from_pretrained(\"roberta-base\")\n",
    "    model = RobertaForSequenceClassification.from_pretrained(\"roberta-base\")\n",
    "elif model_name == \"albert\":\n",
    "    tokenizer = AlbertTokenizer.from_pretrained(\"albert-base-v2\")\n",
    "    model = AlbertForSequenceClassification.from_pretrained(\"albert-base-v2\")\n",
    "elif model_name == \"deberta\":\n",
    "    tokenizer = DebertaTokenizer.from_pretrained(\"microsoft/deberta-base\")\n",
    "    model = DebertaForSequenceClassification.from_pretrained(\"microsoft/deberta-base\")\n",
    "elif model_name == \"electra\":\n",
    "    tokenizer = ElectraTokenizer.from_pretrained(\"google/electra-base-discriminator\")\n",
    "    model = ElectraForSequenceClassification.from_pretrained(\"google/electra-base-discriminator\")\n",
    "else:\n",
    "    raise ValueError(f\"Model {model_name} not supported.\")"
   ],
   "id": "c8511756fdf5781c"
  },
  {
   "metadata": {},
   "cell_type": "markdown",
   "source": "# Read Data",
   "id": "785440179a36f922"
  },
  {
   "metadata": {},
   "cell_type": "code",
   "outputs": [],
   "execution_count": null,
   "source": [
    "import pandas as pd\n",
    "from sklearn.model_selection import train_test_split\n",
    "\n",
    "train_data = pd.read_csv('DS/TREC/train_rewrite.tsv', sep='\\t', header=0)\n",
    "test_data = pd.read_csv('DS/TREC/TREC_10.tsv', sep='\\t', header=0)\n",
    "\n",
    "train_data, val_data = train_test_split(\n",
    "    train_data,\n",
    "    test_size=0.1,\n",
    "    random_state=rand_seed\n",
    ")\n",
    "\n",
    "if bool_rewrite == 0:\n",
    "    train_tokenized = tokenizer(\n",
    "        list(train_data['Sentence']),\n",
    "        return_tensors='pt', padding=True, truncation=True\n",
    "    )\n",
    "\n",
    "    val_tokenized = tokenizer(\n",
    "        list(val_data['Sentence']),\n",
    "        return_tensors='pt', padding=True, truncation=True\n",
    "    )\n",
    "\n",
    "else:\n",
    "    train_tokenized = tokenizer(\n",
    "        list(train_data['Sentence-Rewrite']),\n",
    "        return_tensors='pt', padding=True, truncation=True\n",
    "    )\n",
    "\n",
    "    val_tokenized = tokenizer(\n",
    "        list(val_data['Sentence-Rewrite']),\n",
    "        return_tensors='pt', padding=True, truncation=True\n",
    "    )\n",
    "\n",
    "test_tokenized = tokenizer(\n",
    "    list(test_data['text']),\n",
    "    return_tensors='pt', padding=True, truncation=True\n",
    ")"
   ],
   "id": "ab4f22e48d4fb239"
  },
  {
   "metadata": {},
   "cell_type": "markdown",
   "source": "# Dataset and Dataloader",
   "id": "5d3c10de39c3534d"
  },
  {
   "metadata": {},
   "cell_type": "code",
   "outputs": [],
   "execution_count": null,
   "source": [
    "from torch.utils.data import Dataset, DataLoader\n",
    "\n",
    "class RTE_Dataset(Dataset):\n",
    "    def __init__(self, tokenized_data, labels):\n",
    "        self.data = tokenized_data\n",
    "        self.labels = [label_mapping[label] for label in labels]\n",
    "\n",
    "    def __len__(self):\n",
    "        return len(self.labels)\n",
    "\n",
    "    def __getitem__(self, idx):\n",
    "        return {\n",
    "            'input_ids': self.data['input_ids'][idx],\n",
    "            'attention_mask': self.data['attention_mask'][idx],\n",
    "            'label': torch.tensor(self.labels[idx])\n",
    "        }\n",
    "\n",
    "train_dataset = RTE_Dataset(train_tokenized, list(train_data['Original_Label']))\n",
    "val_dataset = RTE_Dataset(val_tokenized, list(val_data['Original_Label']))\n",
    "\n",
    "train_loader = DataLoader(train_dataset, batch_size=16, shuffle=True, pin_memory=True)\n",
    "val_loader = DataLoader(val_dataset, batch_size=16, shuffle=False, pin_memory=True)"
   ],
   "id": "88bc56af7b7b9ca5"
  },
  {
   "metadata": {},
   "cell_type": "markdown",
   "source": "# Fine-Tune",
   "id": "1220592c4d2131c9"
  },
  {
   "metadata": {},
   "cell_type": "code",
   "outputs": [],
   "execution_count": null,
   "source": [
    "import torch, gc\n",
    "from tqdm import tqdm\n",
    "from transformers import get_scheduler, SchedulerType\n",
    "\n",
    "gc.collect()\n",
    "torch.cuda.empty_cache()\n",
    "model.to(device)\n",
    "\n",
    "num_epoch = 100\n",
    "lr = learning_rate\n",
    "validation = True\n",
    "total_step = len(train_loader) * num_epoch\n",
    "weight_decay = 0.01\n",
    "best_acc = 0\n",
    "\n",
    "early_stop = 100\n",
    "early_stop_count = 0\n",
    "\n",
    "optimizer = torch.optim.AdamW(model.parameters(), lr=lr, weight_decay=weight_decay)\n",
    "num_warmup_steps = int(total_step * 0.1)\n",
    "scheduler = get_scheduler(\n",
    "    name = SchedulerType.LINEAR,\n",
    "    optimizer = optimizer,\n",
    "    num_warmup_steps = num_warmup_steps,\n",
    "    num_training_steps = total_step - num_warmup_steps\n",
    ")\n",
    "\n",
    "for epoch in range(num_epoch):\n",
    "    # Training\n",
    "    model.train()\n",
    "    total_train_loss = 0\n",
    "    for batch in tqdm(train_loader):\n",
    "        input_ids = batch['input_ids'].to(device)\n",
    "        attention_mask = batch['attention_mask'].to(device)\n",
    "        labels = batch['label'].to(device)\n",
    "\n",
    "        outputs = model(input_ids=input_ids, attention_mask=attention_mask, labels=labels)\n",
    "        loss = outputs.loss\n",
    "        total_train_loss += loss.item()\n",
    "\n",
    "        optimizer.zero_grad()\n",
    "        loss.backward()\n",
    "        optimizer.step()\n",
    "        scheduler.step()\n",
    "\n",
    "    avg_train_loss = total_train_loss / len(train_loader)\n",
    "    print(f\"Epoch {epoch+1}/{num_epoch}, Average Training Loss: {avg_train_loss}\")\n",
    "\n",
    "    # Validation\n",
    "    if validation:\n",
    "        model.eval()\n",
    "        total_val_loss = 0\n",
    "        correct_predictions = 0\n",
    "        with torch.no_grad():\n",
    "            for batch in tqdm(val_loader):\n",
    "                input_ids = batch['input_ids'].to(device)\n",
    "                attention_mask = batch['attention_mask'].to(device)\n",
    "                labels = batch['label'].to(device)\n",
    "\n",
    "                outputs = model(input_ids=input_ids, attention_mask=attention_mask, labels=labels)\n",
    "                loss = outputs.loss\n",
    "                total_val_loss += loss.item()\n",
    "\n",
    "                preds = torch.argmax(outputs.logits, dim=-1)\n",
    "                correct_predictions += torch.sum((preds == labels).int())\n",
    "\n",
    "        avg_val_loss = total_val_loss / len(val_loader)\n",
    "        val_acc = correct_predictions.double() / len(val_data)\n",
    "        print(f\"Average Validation Loss: {avg_val_loss}, Validation Accuracy: {val_acc}\")\n",
    "\n",
    "        if val_acc > best_acc:\n",
    "            best_acc = val_acc\n",
    "            torch.save(model.state_dict(), model_save_path)\n",
    "            print('Saving model with val_acc {:.3f}...'.format(best_acc))\n",
    "            early_stop_count = 0\n",
    "        else:\n",
    "            early_stop_count += 1\n",
    "\n",
    "        if early_stop_count >= early_stop:\n",
    "            print('\\nModel is not improving, so we halt the training session.')\n",
    "            break\n",
    "\n",
    "    if not validation:\n",
    "        torch.save(model.state_dict(), model_save_path)"
   ],
   "id": "4a7814fbda09d036"
  },
  {
   "metadata": {},
   "cell_type": "markdown",
   "source": "# Prediction",
   "id": "d2dc3ee5cdebbe14"
  },
  {
   "metadata": {},
   "cell_type": "code",
   "outputs": [],
   "execution_count": null,
   "source": [
    "if model_name == \"bert\":\n",
    "    model = BertForSequenceClassification.from_pretrained(\"bert-base-uncased\")\n",
    "elif model_name == \"roberta\":\n",
    "    model = RobertaForSequenceClassification.from_pretrained(\"roberta-base\")\n",
    "elif model_name == \"albert\":\n",
    "    model = AlbertForSequenceClassification.from_pretrained(\"albert-base-v2\")\n",
    "elif model_name == \"deberta\":\n",
    "    model = DebertaForSequenceClassification.from_pretrained(\"microsoft/deberta-base\")\n",
    "elif model_name == \"electra\":\n",
    "    model = ElectraForSequenceClassification.from_pretrained(\"google/electra-base-discriminator\")\n",
    "else:\n",
    "    raise ValueError(f\"Model {model_name} not supported.\")\n",
    "\n",
    "model.load_state_dict(torch.load(model_save_path, weights_only=True))\n",
    "model.eval()\n",
    "with torch.no_grad():\n",
    "    outputs = model(**test_tokenized)"
   ],
   "id": "d03ebb772e7d5fb8"
  },
  {
   "metadata": {},
   "cell_type": "markdown",
   "source": "# Save the pred",
   "id": "ebdd28823891e473"
  },
  {
   "metadata": {},
   "cell_type": "code",
   "outputs": [],
   "execution_count": null,
   "source": [
    "predictions = torch.argmax(outputs.logits, dim=-1).cpu()\n",
    "test_data['pred_label'] = predictions\n",
    "test_data.to_csv(pred_save_path, sep='\\t', header=True, index=False)"
   ],
   "id": "e22b3cf1012a75b1"
  },
  {
   "metadata": {},
   "cell_type": "markdown",
   "source": "# Calculate Acc",
   "id": "e6065e0c6a5822fe"
  },
  {
   "metadata": {},
   "cell_type": "code",
   "outputs": [],
   "execution_count": null,
   "source": [
    "import pandas as pd\n",
    "from sklearn.metrics import accuracy_score, precision_score, recall_score, f1_score\n",
    "\n",
    "df = pd.read_csv(pred_save_path, sep=',', header=0)\n",
    "df['Original_Label'] = df['Original_Label'].map(label_mapping)\n",
    "correct_predictions = (df['Original_Label'] == df['pred_label']).sum()\n",
    "total_predictions = len(df)\n",
    "\n",
    "accuracy = accuracy_score(df['Original_Label'], df['pred_label'])\n",
    "precision = precision_score(df['Original_Label'], df['pred_label'], average='macro')\n",
    "recall = recall_score(df['Original_Label'], df['pred_label'], average='macro')\n",
    "f1 = f1_score(df['Original_Label'], df['pred_label'], average='macro')\n",
    "\n",
    "print(f'{accuracy * 100:.2f} / {precision * 100:.2f} / {recall * 100:.2f} / {f1 * 100:.2f}')"
   ],
   "id": "d0784b8b33d9d933"
  }
 ],
 "metadata": {
  "kernelspec": {
   "display_name": "Python 3",
   "language": "python",
   "name": "python3"
  },
  "language_info": {
   "codemirror_mode": {
    "name": "ipython",
    "version": 2
   },
   "file_extension": ".py",
   "mimetype": "text/x-python",
   "name": "python",
   "nbconvert_exporter": "python",
   "pygments_lexer": "ipython2",
   "version": "2.7.6"
  }
 },
 "nbformat": 4,
 "nbformat_minor": 5
}
